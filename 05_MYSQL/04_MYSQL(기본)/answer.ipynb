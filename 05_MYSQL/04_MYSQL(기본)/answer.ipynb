{
 "cells": [
  {
   "cell_type": "markdown",
   "metadata": {},
   "source": [
    "## 04_MYSQL(기본)\n",
    "---\n",
    "### SQL 고급 - 조인\n",
    "\n",
    "#### 실습 문제 (p.2-4)\n",
    "- sqldb 데이터베이스에서 다음 조건을 처리하세요. (p.2)\n",
    "  ```sql\n",
    "  > select * from buytbl b inner join usertbl u on b.userid = u.userid;\n",
    "  ```\n",
    "- 앞의 결과에서 userID가 'JYP'인 데이터만 출력하세요.\n",
    "  ```sql\n",
    "  > select * from buytbl b inner join usertbl u on b.userid = u.userid where b.userid = 'JYP'\n",
    "  ```\n",
    "- sqldb 데이터베이스에서 다음 조건을 처리하세요. (p.3)\n",
    "  ```sql\n",
    "  > select u.userid, u.name, b.prodname, u.addr, concat(u.mobile1, u.mobile2) as 연락처\n",
    "  > from usertbl u left outer join buytbl b on u.userid = b.userid\n",
    "  > order by u.userid;\n",
    "  ```\n",
    "- sqldb의 사용자를 모두 조회하되 전화가 없는 사람은 제외하고 출력하세요. (p.4)\n",
    "  ```sql\n",
    "  > select name, concat(mobile1, mobile2) as 전화번호 from usertbl where name not in (select name from usertbl where mobile1 is null);\n",
    "  ```\n",
    "- sqldb의 사용자를 모두 조회하되 전화가 없는 사람만 출력하세요.\n",
    "  ```sql\n",
    "  > select name, concat(mobile1, mobile2) as 전화번호 from usertbl where name in (select name from usertbl where mobile1 is null);\n",
    "  ```"
   ]
  }
 ],
 "metadata": {
  "language_info": {
   "name": "python"
  }
 },
 "nbformat": 4,
 "nbformat_minor": 2
}
