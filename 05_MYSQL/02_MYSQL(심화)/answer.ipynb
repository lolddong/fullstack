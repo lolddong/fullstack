{
 "cells": [
  {
   "cell_type": "markdown",
   "metadata": {},
   "source": [
    "## 02_MYSQL(심화)\n",
    "---\n",
    "### MySQL 전체 운영 실습 (심화1)\n",
    "#### 실습 문제 (p.2-4)\n",
    "- 워크벤치의GUI를이용하여다음 테이블을정의하세요. (작성 결과를화면캡처하세요.) (p.2)\n",
    "  - page2_answer1_createTbl.jpg 참고\n",
    "- 워크벤치의 GUI를 이용하여 tbl_board 테이블에 데이터를 10건 추가하세요. (작성 결과를화면캡처하세요.) (p.3)\n",
    "  - page3_answer1_insertData.jpg 참고\n",
    "- SQL 편집창을띄워서 SQL문으로다음을실행하세요. (p.4)\n",
    "  - page4_answer1.jpg, page4_answer2.jpg, page4_answer3.jpg 참고\n",
    "---\n",
    "### MySQL 전체 운영 실습 (심화2)\n",
    "#### 실습 문제 (p.6)\n",
    "- sakila 데이터베이스의각테이블을조사하여아래표를 완성하세요. (p.6)\n"
   ]
  }
 ],
 "metadata": {
  "language_info": {
   "name": "python"
  }
 },
 "nbformat": 4,
 "nbformat_minor": 2
}
